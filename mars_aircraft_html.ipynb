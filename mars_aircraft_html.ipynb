{
  "cells": [
    {
      "cell_type": "markdown",
      "metadata": {
        "id": "view-in-github",
        "colab_type": "text"
      },
      "source": [
        "<a href=\"https://colab.research.google.com/github/wenisy/space-orbit/blob/main/mars_aircraft_html.ipynb\" target=\"_parent\"><img src=\"https://colab.research.google.com/assets/colab-badge.svg\" alt=\"Open In Colab\"/></a>"
      ]
    },
    {
      "cell_type": "code",
      "execution_count": 1,
      "metadata": {
        "colab": {
          "base_uri": "https://localhost:8080/"
        },
        "id": "Vr_pH4bE-05a",
        "outputId": "ecf6d667-e2ac-41c9-ff68-1823e8fd0a54"
      },
      "outputs": [
        {
          "output_type": "stream",
          "name": "stdout",
          "text": [
            "Requirement already satisfied: numpy in /usr/local/lib/python3.11/dist-packages (1.26.4)\n",
            "Requirement already satisfied: matplotlib in /usr/local/lib/python3.11/dist-packages (3.10.0)\n",
            "Requirement already satisfied: scipy in /usr/local/lib/python3.11/dist-packages (1.13.1)\n",
            "Requirement already satisfied: IPython in /usr/local/lib/python3.11/dist-packages (7.34.0)\n",
            "Requirement already satisfied: contourpy>=1.0.1 in /usr/local/lib/python3.11/dist-packages (from matplotlib) (1.3.1)\n",
            "Requirement already satisfied: cycler>=0.10 in /usr/local/lib/python3.11/dist-packages (from matplotlib) (0.12.1)\n",
            "Requirement already satisfied: fonttools>=4.22.0 in /usr/local/lib/python3.11/dist-packages (from matplotlib) (4.56.0)\n",
            "Requirement already satisfied: kiwisolver>=1.3.1 in /usr/local/lib/python3.11/dist-packages (from matplotlib) (1.4.8)\n",
            "Requirement already satisfied: packaging>=20.0 in /usr/local/lib/python3.11/dist-packages (from matplotlib) (24.2)\n",
            "Requirement already satisfied: pillow>=8 in /usr/local/lib/python3.11/dist-packages (from matplotlib) (11.1.0)\n",
            "Requirement already satisfied: pyparsing>=2.3.1 in /usr/local/lib/python3.11/dist-packages (from matplotlib) (3.2.1)\n",
            "Requirement already satisfied: python-dateutil>=2.7 in /usr/local/lib/python3.11/dist-packages (from matplotlib) (2.8.2)\n",
            "Requirement already satisfied: setuptools>=18.5 in /usr/local/lib/python3.11/dist-packages (from IPython) (75.1.0)\n",
            "Collecting jedi>=0.16 (from IPython)\n",
            "  Downloading jedi-0.19.2-py2.py3-none-any.whl.metadata (22 kB)\n",
            "Requirement already satisfied: decorator in /usr/local/lib/python3.11/dist-packages (from IPython) (4.4.2)\n",
            "Requirement already satisfied: pickleshare in /usr/local/lib/python3.11/dist-packages (from IPython) (0.7.5)\n",
            "Requirement already satisfied: traitlets>=4.2 in /usr/local/lib/python3.11/dist-packages (from IPython) (5.7.1)\n",
            "Requirement already satisfied: prompt-toolkit!=3.0.0,!=3.0.1,<3.1.0,>=2.0.0 in /usr/local/lib/python3.11/dist-packages (from IPython) (3.0.50)\n",
            "Requirement already satisfied: pygments in /usr/local/lib/python3.11/dist-packages (from IPython) (2.18.0)\n",
            "Requirement already satisfied: backcall in /usr/local/lib/python3.11/dist-packages (from IPython) (0.2.0)\n",
            "Requirement already satisfied: matplotlib-inline in /usr/local/lib/python3.11/dist-packages (from IPython) (0.1.7)\n",
            "Requirement already satisfied: pexpect>4.3 in /usr/local/lib/python3.11/dist-packages (from IPython) (4.9.0)\n",
            "Requirement already satisfied: parso<0.9.0,>=0.8.4 in /usr/local/lib/python3.11/dist-packages (from jedi>=0.16->IPython) (0.8.4)\n",
            "Requirement already satisfied: ptyprocess>=0.5 in /usr/local/lib/python3.11/dist-packages (from pexpect>4.3->IPython) (0.7.0)\n",
            "Requirement already satisfied: wcwidth in /usr/local/lib/python3.11/dist-packages (from prompt-toolkit!=3.0.0,!=3.0.1,<3.1.0,>=2.0.0->IPython) (0.2.13)\n",
            "Requirement already satisfied: six>=1.5 in /usr/local/lib/python3.11/dist-packages (from python-dateutil>=2.7->matplotlib) (1.17.0)\n",
            "Downloading jedi-0.19.2-py2.py3-none-any.whl (1.6 MB)\n",
            "\u001b[2K   \u001b[90m━━━━━━━━━━━━━━━━━━━━━━━━━━━━━━━━━━━━━━━━\u001b[0m \u001b[32m1.6/1.6 MB\u001b[0m \u001b[31m18.6 MB/s\u001b[0m eta \u001b[36m0:00:00\u001b[0m\n",
            "\u001b[?25hInstalling collected packages: jedi\n",
            "Successfully installed jedi-0.19.2\n"
          ]
        }
      ],
      "source": [
        "pip install numpy matplotlib scipy IPython"
      ]
    },
    {
      "cell_type": "code",
      "execution_count": null,
      "metadata": {
        "colab": {
          "background_save": true
        },
        "id": "t_3G0e5--1-x"
      },
      "outputs": [],
      "source": [
        "import numpy as np\n",
        "import matplotlib.pyplot as plt\n",
        "from mpl_toolkits.mplot3d import Axes3D\n",
        "from matplotlib.animation import FuncAnimation\n",
        "from IPython.display import HTML, display\n",
        "\n",
        "# -----------------------------\n",
        "# 1. Define parameters\n",
        "# -----------------------------\n",
        "R_earth = 1.0\n",
        "R_mars = 1.52\n",
        "T_earth = 1.0\n",
        "T_mars = 1.88\n",
        "omega_earth = 2 * np.pi / T_earth\n",
        "omega_mars = 2 * np.pi / T_mars\n",
        "frames = 600\n",
        "segment_frames = frames // 3\n",
        "\n",
        "# -----------------------------\n",
        "# 2. Precompute orbits\n",
        "# -----------------------------\n",
        "t_vals = np.linspace(0, 2, frames)\n",
        "earth_x = R_earth * np.cos(omega_earth * t_vals * T_earth)\n",
        "earth_y = R_earth * np.sin(omega_earth * t_vals * T_earth)\n",
        "earth_z = np.zeros_like(t_vals)\n",
        "\n",
        "mars_x = R_mars * np.cos(omega_mars * t_vals * T_earth)\n",
        "mars_y = R_mars * np.sin(omega_mars * t_vals * T_earth)\n",
        "mars_z = np.zeros_like(t_vals)\n",
        "\n",
        "# -----------------------------\n",
        "# 3. Define spacecraft trajectory\n",
        "# -----------------------------\n",
        "spacecraft_x = np.zeros(frames)\n",
        "spacecraft_y = np.zeros(frames)\n",
        "spacecraft_z = np.zeros(frames)\n",
        "\n",
        "for i in range(segment_frames):\n",
        "    alpha = i / (segment_frames - 1)\n",
        "    spacecraft_x[i] = (1 - alpha) * earth_x[0] + alpha * mars_x[segment_frames]\n",
        "    spacecraft_y[i] = (1 - alpha) * earth_y[0] + alpha * mars_y[segment_frames]\n",
        "    spacecraft_z[i] = 0.0\n",
        "\n",
        "for i in range(segment_frames, 2 * segment_frames):\n",
        "    spacecraft_x[i] = mars_x[i]\n",
        "    spacecraft_y[i] = mars_y[i]\n",
        "    spacecraft_z[i] = 0.0\n",
        "\n",
        "for i in range(2 * segment_frames, frames):\n",
        "    alpha = (i - 2 * segment_frames) / (segment_frames - 1)\n",
        "    spacecraft_x[i] = (1 - alpha) * mars_x[2 * segment_frames] + alpha * earth_x[-1]\n",
        "    spacecraft_y[i] = (1 - alpha) * mars_y[2 * segment_frames] + alpha * earth_y[-1]\n",
        "    spacecraft_z[i] = 0.0\n",
        "\n",
        "# -----------------------------\n",
        "# 4. Create 3D figure and animation\n",
        "# -----------------------------\n",
        "fig = plt.figure(figsize=(8, 6))\n",
        "ax = fig.add_subplot(111, projection='3d')\n",
        "ax.set_xlim([-2, 2])\n",
        "ax.set_ylim([-2, 2])\n",
        "ax.set_zlim([-1, 1])\n",
        "ax.set_xlabel('X (AU)')\n",
        "ax.set_ylabel('Y (AU)')\n",
        "ax.set_zlabel('Z (AU)')\n",
        "ax.set_title('Earth -> Mars -> Earth (Simplified 3D Animation)')\n",
        "\n",
        "sun_plot, = ax.plot([0], [0], [0], 'o', color='yellow', markersize=12, label='Sun')\n",
        "earth_plot, = ax.plot([], [], [], 'o', color='blue', label='Earth')\n",
        "mars_plot, = ax.plot([], [], [], 'o', color='red', label='Mars')\n",
        "spacecraft_plot, = ax.plot([], [], [], 'o', color='green', label='Spacecraft')\n",
        "\n",
        "earth_orbit_line, = ax.plot([], [], [], '--', color='blue', alpha=0.5)\n",
        "mars_orbit_line, = ax.plot([], [], [], '--', color='red', alpha=0.5)\n",
        "spacecraft_traj_line, = ax.plot([], [], [], '-', color='green', alpha=0.5)\n",
        "ax.legend()\n",
        "\n",
        "def init():\n",
        "    earth_plot.set_data([], [])\n",
        "    earth_plot.set_3d_properties([])\n",
        "    mars_plot.set_data([], [])\n",
        "    mars_plot.set_3d_properties([])\n",
        "    spacecraft_plot.set_data([], [])\n",
        "    spacecraft_plot.set_3d_properties([])\n",
        "    return earth_plot, mars_plot, spacecraft_plot\n",
        "\n",
        "def update(frame):\n",
        "    earth_plot.set_data([earth_x[frame]], [earth_y[frame]])\n",
        "    earth_plot.set_3d_properties([earth_z[frame]])\n",
        "    mars_plot.set_data([mars_x[frame]], [mars_y[frame]])\n",
        "    mars_plot.set_3d_properties([mars_z[frame]])\n",
        "    spacecraft_plot.set_data([spacecraft_x[frame]], [spacecraft_y[frame]])\n",
        "    spacecraft_plot.set_3d_properties([spacecraft_z[frame]])\n",
        "    return earth_plot, mars_plot, spacecraft_plot\n",
        "\n",
        "ani = FuncAnimation(fig, update, frames=frames, init_func=init, blit=True, interval=20)\n",
        "display(HTML(ani.to_jshtml()))\n",
        "plt.close(fig)\n"
      ]
    }
  ],
  "metadata": {
    "colab": {
      "provenance": [],
      "authorship_tag": "ABX9TyMFRY+fgiHVMCPhqAlLWq+M",
      "include_colab_link": true
    },
    "kernelspec": {
      "display_name": "Python 3",
      "name": "python3"
    },
    "language_info": {
      "name": "python"
    }
  },
  "nbformat": 4,
  "nbformat_minor": 0
}